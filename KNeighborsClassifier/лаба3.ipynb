{
 "cells": [
  {
   "cell_type": "code",
   "execution_count": 1,
   "metadata": {},
   "outputs": [],
   "source": [
    "from sklearn.neighbors import NearestNeighbors\n",
    "from sklearn.neighbors import KNeighborsClassifier\n",
    "from sklearn.model_selection import train_test_split\n",
    "from math import sqrt\n",
    "from sklearn.preprocessing import StandardScaler\n",
    "import numpy as np\n",
    "import matplotlib.pyplot as plt\n",
    "import pandas as pd\n",
    "from sklearn.metrics import pairwise_distances as sk_distances\n",
    "from scipy.spatial import distance as sp_dist\n",
    "from sklearn.metrics import confusion_matrix, accuracy_score"
   ]
  },
  {
   "cell_type": "code",
   "execution_count": 2,
   "metadata": {},
   "outputs": [],
   "source": [
    "dataset = pd.read_csv('diabetes.csv')\n"
   ]
  },
  {
   "cell_type": "code",
   "execution_count": 3,
   "metadata": {},
   "outputs": [],
   "source": [
    "social=dataset\n"
   ]
  },
  {
   "cell_type": "code",
   "execution_count": 4,
   "metadata": {},
   "outputs": [
    {
     "data": {
      "text/html": [
       "<div>\n",
       "<style scoped>\n",
       "    .dataframe tbody tr th:only-of-type {\n",
       "        vertical-align: middle;\n",
       "    }\n",
       "\n",
       "    .dataframe tbody tr th {\n",
       "        vertical-align: top;\n",
       "    }\n",
       "\n",
       "    .dataframe thead th {\n",
       "        text-align: right;\n",
       "    }\n",
       "</style>\n",
       "<table border=\"1\" class=\"dataframe\">\n",
       "  <thead>\n",
       "    <tr style=\"text-align: right;\">\n",
       "      <th></th>\n",
       "      <th>Pregnancies</th>\n",
       "      <th>Glucose</th>\n",
       "      <th>BloodPressure</th>\n",
       "      <th>SkinThickness</th>\n",
       "      <th>Insulin</th>\n",
       "      <th>BMI</th>\n",
       "      <th>DiabetesPedigreeFunction</th>\n",
       "      <th>Age</th>\n",
       "      <th>Outcome</th>\n",
       "    </tr>\n",
       "  </thead>\n",
       "  <tbody>\n",
       "    <tr>\n",
       "      <th>0</th>\n",
       "      <td>6</td>\n",
       "      <td>148</td>\n",
       "      <td>72</td>\n",
       "      <td>35</td>\n",
       "      <td>0</td>\n",
       "      <td>33.6</td>\n",
       "      <td>0.627</td>\n",
       "      <td>50</td>\n",
       "      <td>1</td>\n",
       "    </tr>\n",
       "    <tr>\n",
       "      <th>1</th>\n",
       "      <td>1</td>\n",
       "      <td>85</td>\n",
       "      <td>66</td>\n",
       "      <td>29</td>\n",
       "      <td>0</td>\n",
       "      <td>26.6</td>\n",
       "      <td>0.351</td>\n",
       "      <td>31</td>\n",
       "      <td>0</td>\n",
       "    </tr>\n",
       "    <tr>\n",
       "      <th>2</th>\n",
       "      <td>8</td>\n",
       "      <td>183</td>\n",
       "      <td>64</td>\n",
       "      <td>0</td>\n",
       "      <td>0</td>\n",
       "      <td>23.3</td>\n",
       "      <td>0.672</td>\n",
       "      <td>32</td>\n",
       "      <td>1</td>\n",
       "    </tr>\n",
       "    <tr>\n",
       "      <th>3</th>\n",
       "      <td>1</td>\n",
       "      <td>89</td>\n",
       "      <td>66</td>\n",
       "      <td>23</td>\n",
       "      <td>94</td>\n",
       "      <td>28.1</td>\n",
       "      <td>0.167</td>\n",
       "      <td>21</td>\n",
       "      <td>0</td>\n",
       "    </tr>\n",
       "    <tr>\n",
       "      <th>4</th>\n",
       "      <td>0</td>\n",
       "      <td>137</td>\n",
       "      <td>40</td>\n",
       "      <td>35</td>\n",
       "      <td>168</td>\n",
       "      <td>43.1</td>\n",
       "      <td>2.288</td>\n",
       "      <td>33</td>\n",
       "      <td>1</td>\n",
       "    </tr>\n",
       "    <tr>\n",
       "      <th>...</th>\n",
       "      <td>...</td>\n",
       "      <td>...</td>\n",
       "      <td>...</td>\n",
       "      <td>...</td>\n",
       "      <td>...</td>\n",
       "      <td>...</td>\n",
       "      <td>...</td>\n",
       "      <td>...</td>\n",
       "      <td>...</td>\n",
       "    </tr>\n",
       "    <tr>\n",
       "      <th>763</th>\n",
       "      <td>10</td>\n",
       "      <td>101</td>\n",
       "      <td>76</td>\n",
       "      <td>48</td>\n",
       "      <td>180</td>\n",
       "      <td>32.9</td>\n",
       "      <td>0.171</td>\n",
       "      <td>63</td>\n",
       "      <td>0</td>\n",
       "    </tr>\n",
       "    <tr>\n",
       "      <th>764</th>\n",
       "      <td>2</td>\n",
       "      <td>122</td>\n",
       "      <td>70</td>\n",
       "      <td>27</td>\n",
       "      <td>0</td>\n",
       "      <td>36.8</td>\n",
       "      <td>0.340</td>\n",
       "      <td>27</td>\n",
       "      <td>0</td>\n",
       "    </tr>\n",
       "    <tr>\n",
       "      <th>765</th>\n",
       "      <td>5</td>\n",
       "      <td>121</td>\n",
       "      <td>72</td>\n",
       "      <td>23</td>\n",
       "      <td>112</td>\n",
       "      <td>26.2</td>\n",
       "      <td>0.245</td>\n",
       "      <td>30</td>\n",
       "      <td>0</td>\n",
       "    </tr>\n",
       "    <tr>\n",
       "      <th>766</th>\n",
       "      <td>1</td>\n",
       "      <td>126</td>\n",
       "      <td>60</td>\n",
       "      <td>0</td>\n",
       "      <td>0</td>\n",
       "      <td>30.1</td>\n",
       "      <td>0.349</td>\n",
       "      <td>47</td>\n",
       "      <td>1</td>\n",
       "    </tr>\n",
       "    <tr>\n",
       "      <th>767</th>\n",
       "      <td>1</td>\n",
       "      <td>93</td>\n",
       "      <td>70</td>\n",
       "      <td>31</td>\n",
       "      <td>0</td>\n",
       "      <td>30.4</td>\n",
       "      <td>0.315</td>\n",
       "      <td>23</td>\n",
       "      <td>0</td>\n",
       "    </tr>\n",
       "  </tbody>\n",
       "</table>\n",
       "<p>768 rows × 9 columns</p>\n",
       "</div>"
      ],
      "text/plain": [
       "     Pregnancies  Glucose  BloodPressure  SkinThickness  Insulin   BMI  \\\n",
       "0              6      148             72             35        0  33.6   \n",
       "1              1       85             66             29        0  26.6   \n",
       "2              8      183             64              0        0  23.3   \n",
       "3              1       89             66             23       94  28.1   \n",
       "4              0      137             40             35      168  43.1   \n",
       "..           ...      ...            ...            ...      ...   ...   \n",
       "763           10      101             76             48      180  32.9   \n",
       "764            2      122             70             27        0  36.8   \n",
       "765            5      121             72             23      112  26.2   \n",
       "766            1      126             60              0        0  30.1   \n",
       "767            1       93             70             31        0  30.4   \n",
       "\n",
       "     DiabetesPedigreeFunction  Age  Outcome  \n",
       "0                       0.627   50        1  \n",
       "1                       0.351   31        0  \n",
       "2                       0.672   32        1  \n",
       "3                       0.167   21        0  \n",
       "4                       2.288   33        1  \n",
       "..                        ...  ...      ...  \n",
       "763                     0.171   63        0  \n",
       "764                     0.340   27        0  \n",
       "765                     0.245   30        0  \n",
       "766                     0.349   47        1  \n",
       "767                     0.315   23        0  \n",
       "\n",
       "[768 rows x 9 columns]"
      ]
     },
     "execution_count": 4,
     "metadata": {},
     "output_type": "execute_result"
    }
   ],
   "source": [
    "social"
   ]
  },
  {
   "cell_type": "code",
   "execution_count": 5,
   "metadata": {},
   "outputs": [],
   "source": [
    "X = dataset.iloc[:, :-1].values\n",
    "y = dataset.iloc[:, -1].values\n"
   ]
  },
  {
   "cell_type": "code",
   "execution_count": 6,
   "metadata": {},
   "outputs": [],
   "source": [
    "X_train, X_test, y_train, y_test = train_test_split(X, y, test_size = 0.2, random_state = 0)\n"
   ]
  },
  {
   "cell_type": "code",
   "execution_count": 7,
   "metadata": {},
   "outputs": [],
   "source": [
    "sc = StandardScaler()\n",
    "X_train = sc.fit_transform(X_train)\n",
    "X_test = sc.transform(X_test) #avoid data leakage"
   ]
  },
  {
   "cell_type": "markdown",
   "metadata": {},
   "source": [
    "## KNN with sklearn"
   ]
  },
  {
   "cell_type": "code",
   "execution_count": 8,
   "metadata": {},
   "outputs": [],
   "source": [
    "classifier = KNeighborsClassifier(n_neighbors = 5, metric = 'minkowski',p=2)#The default metric is minkowski, and with p=2 is equivalent to the standard Euclidean metric.\n",
    "classifier.fit(X_train, y_train)\n",
    "y_pred_skl = classifier.predict(X_test)\n"
   ]
  },
  {
   "cell_type": "markdown",
   "metadata": {},
   "source": [
    "## KNN hand implementation"
   ]
  },
  {
   "cell_type": "code",
   "execution_count": 9,
   "metadata": {},
   "outputs": [],
   "source": [
    "class KNN:\n",
    "    def __init__(self,k,distance_metric='cosine'):\n",
    "        self.k=k\n",
    "        self.metric=distance_metric\n",
    "        print(self.k)\n",
    "    def fit(self,X_train,y_train):\n",
    "        self.x_train=X_train\n",
    "        self.y_train=y_train\n",
    "        \n",
    "    def calculate_euclidean(self,sample1,sample2):\n",
    "         try:\n",
    "            return distances([sample1], [sample2], self.distance_metric)[0][0]\n",
    "         except Exception as e:\n",
    "            #print('Metric {} is probably not in the metrics list! Error: {}'.format(self.distance_metric, e))\n",
    "            return 0  \n",
    "    def nearest_neighbors(self,test_sample):\n",
    "        distances=[]#calculate distances from a test sample to every sample in a training set\n",
    "        test_array = np.array([test_sample for i in range(0, len(self.x_train))])\n",
    "        distances = sk_distances(self.x_train, test_array, self.metric)\n",
    "        distances = [distances[i][0] for i in range(0, len(distances))]\n",
    "        neighbors = [self.y_train[i] for i in np.argsort(distances)[0:self.k]]\n",
    "        \n",
    "        return neighbors\n",
    "    def predict(self,test_set):\n",
    "        predictions=[]\n",
    "        for test_sample in test_set:\n",
    "            neighbors=self.nearest_neighbors(test_sample)\n",
    "            labels=[sample for sample in neighbors]\n",
    "            prediction=max(labels,key=labels.count)\n",
    "            predictions.append(prediction)\n",
    "            #print(predictions)\n",
    "        return predictions"
   ]
  },
  {
   "cell_type": "code",
   "execution_count": 10,
   "metadata": {
    "scrolled": true
   },
   "outputs": [
    {
     "name": "stdout",
     "output_type": "stream",
     "text": [
      "5\n"
     ]
    }
   ],
   "source": [
    "our_model=KNN(5,'euclidean')\n",
    "our_model.fit(X_train,y_train)"
   ]
  },
  {
   "cell_type": "code",
   "execution_count": 11,
   "metadata": {},
   "outputs": [
    {
     "name": "stdout",
     "output_type": "stream",
     "text": [
      "[1, 0, 0, 1, 0, 0, 1, 1, 1, 0, 1, 1, 0, 0, 0, 0, 1, 0, 0, 0, 0, 0, 0, 0, 0, 0, 0, 1, 0, 0, 1, 0, 0, 1, 0, 1, 0, 0, 0, 1, 0, 0, 0, 1, 1, 0, 0, 0, 1, 0, 0, 0, 1, 1, 0, 0, 0, 1, 0, 0, 1, 0, 0, 1, 1, 1, 1, 0, 1, 0, 0, 0, 0, 1, 1, 0, 0, 0, 0, 0, 0, 0, 1, 0, 0, 0, 0, 0, 1, 0, 0, 0, 0, 0, 1, 0, 0, 0, 1, 1, 0, 0, 0, 0, 0, 0, 0, 0, 0, 1, 0, 0, 1, 1, 1, 1, 0, 1, 0, 1, 0, 1, 0, 0, 0, 0, 0, 0, 1, 0, 0, 0, 0, 0, 0, 0, 0, 0, 1, 0, 0, 1, 0, 0, 1, 0, 0, 0, 0, 0, 0, 0, 0, 0]\n",
      "Number of mislabeled points out of a total points : 0\n",
      "Number of mislabeled points out of a total points : 31\n",
      "Number of mislabeled points out of a total points : 31\n"
     ]
    }
   ],
   "source": [
    "y_pred_hand=our_model.predict(X_test)\n",
    "print(y_pred_hand)\n",
    "print(\"Number of mislabeled points out of a total points : %d\"% ((y_pred_skl != y_pred_hand).sum()))\n",
    "print(\"Number of mislabeled points out of a total points : %d\"% ((y_pred_skl != y_test).sum()))\n",
    "print(\"Number of mislabeled points out of a total points : %d\"% ((y_pred_hand != y_test).sum()))"
   ]
  },
  {
   "cell_type": "code",
   "execution_count": 12,
   "metadata": {},
   "outputs": [
    {
     "name": "stdout",
     "output_type": "stream",
     "text": [
      "[[93 14]\n",
      " [17 30]]\n"
     ]
    },
    {
     "data": {
      "text/plain": [
       "0.7987012987012987"
      ]
     },
     "execution_count": 12,
     "metadata": {},
     "output_type": "execute_result"
    }
   ],
   "source": [
    "cm_hand = confusion_matrix(y_test, y_pred_hand)\n",
    "print(cm_hand)\n",
    "accuracy_score(y_test, y_pred_hand)"
   ]
  },
  {
   "cell_type": "code",
   "execution_count": 13,
   "metadata": {},
   "outputs": [
    {
     "name": "stdout",
     "output_type": "stream",
     "text": [
      "[[93 14]\n",
      " [17 30]]\n"
     ]
    },
    {
     "data": {
      "text/plain": [
       "0.7987012987012987"
      ]
     },
     "execution_count": 13,
     "metadata": {},
     "output_type": "execute_result"
    }
   ],
   "source": [
    "cm_skl = confusion_matrix(y_test, y_pred_skl)\n",
    "print(cm_skl)\n",
    "accuracy_score(y_test, y_pred_skl)"
   ]
  },
  {
   "cell_type": "code",
   "execution_count": 14,
   "metadata": {},
   "outputs": [
    {
     "name": "stdout",
     "output_type": "stream",
     "text": [
      "Функция расстояния:  cosine , модель:  5\n",
      "5\n",
      "[[95 12]\n",
      " [15 32]]\n",
      "0.8246753246753247\n",
      "\n",
      "\n",
      "Функция расстояния:  cosine , модель:  7\n",
      "7\n",
      "[[95 12]\n",
      " [17 30]]\n",
      "0.8116883116883117\n",
      "\n",
      "\n",
      "Функция расстояния:  cosine , модель:  9\n",
      "9\n",
      "[[95 12]\n",
      " [17 30]]\n",
      "0.8116883116883117\n",
      "\n",
      "\n",
      "Функция расстояния:  cosine , модель:  11\n",
      "11\n",
      "[[94 13]\n",
      " [17 30]]\n",
      "0.8051948051948052\n",
      "\n",
      "\n",
      "Функция расстояния:  cosine , модель:  13\n",
      "13\n",
      "[[94 13]\n",
      " [18 29]]\n",
      "0.7987012987012987\n",
      "\n",
      "\n",
      "Функция расстояния:  cosine , модель:  15\n",
      "15\n",
      "[[95 12]\n",
      " [18 29]]\n",
      "0.8051948051948052\n",
      "\n",
      "\n",
      "Функция расстояния:  cosine , модель:  17\n",
      "17\n",
      "[[94 13]\n",
      " [19 28]]\n",
      "0.7922077922077922\n",
      "\n",
      "\n",
      "Функция расстояния:  euclidean , модель:  5\n",
      "5\n",
      "[[93 14]\n",
      " [17 30]]\n",
      "0.7987012987012987\n",
      "\n",
      "\n",
      "Функция расстояния:  euclidean , модель:  7\n",
      "7\n",
      "[[91 16]\n",
      " [19 28]]\n",
      "0.7727272727272727\n",
      "\n",
      "\n",
      "Функция расстояния:  euclidean , модель:  9\n",
      "9\n",
      "[[92 15]\n",
      " [20 27]]\n",
      "0.7727272727272727\n",
      "\n",
      "\n",
      "Функция расстояния:  euclidean , модель:  11\n",
      "11\n",
      "[[92 15]\n",
      " [20 27]]\n",
      "0.7727272727272727\n",
      "\n",
      "\n",
      "Функция расстояния:  euclidean , модель:  13\n",
      "13\n",
      "[[92 15]\n",
      " [19 28]]\n",
      "0.7792207792207793\n",
      "\n",
      "\n",
      "Функция расстояния:  euclidean , модель:  15\n",
      "15\n",
      "[[95 12]\n",
      " [18 29]]\n",
      "0.8051948051948052\n",
      "\n",
      "\n",
      "Функция расстояния:  euclidean , модель:  17\n",
      "17\n",
      "[[96 11]\n",
      " [18 29]]\n",
      "0.8116883116883117\n",
      "\n",
      "\n",
      "Функция расстояния:  manhattan , модель:  5\n",
      "5\n",
      "[[94 13]\n",
      " [19 28]]\n",
      "0.7922077922077922\n",
      "\n",
      "\n",
      "Функция расстояния:  manhattan , модель:  7\n",
      "7\n",
      "[[94 13]\n",
      " [22 25]]\n",
      "0.7727272727272727\n",
      "\n",
      "\n",
      "Функция расстояния:  manhattan , модель:  9\n",
      "9\n",
      "[[93 14]\n",
      " [19 28]]\n",
      "0.7857142857142857\n",
      "\n",
      "\n",
      "Функция расстояния:  manhattan , модель:  11\n",
      "11\n",
      "[[96 11]\n",
      " [18 29]]\n",
      "0.8116883116883117\n",
      "\n",
      "\n",
      "Функция расстояния:  manhattan , модель:  13\n",
      "13\n",
      "[[97 10]\n",
      " [18 29]]\n",
      "0.8181818181818182\n",
      "\n",
      "\n",
      "Функция расстояния:  manhattan , модель:  15\n",
      "15\n",
      "[[96 11]\n",
      " [17 30]]\n",
      "0.8181818181818182\n",
      "\n",
      "\n",
      "Функция расстояния:  manhattan , модель:  17\n",
      "17\n",
      "[[95 12]\n",
      " [17 30]]\n",
      "0.8116883116883117\n",
      "\n",
      "\n"
     ]
    }
   ],
   "source": [
    "K = [5, 7, 9, 11, 13, 15, 17]\n",
    "metrics = ['cosine', 'euclidean', 'manhattan']\n",
    "\n",
    "for i in range(len(metrics)):\n",
    "    for j in range(len(K)):\n",
    "        print(\"Функция расстояния: \", metrics[i], \", модель: \", K[j])\n",
    "        model=KNN(K[j], metrics[i]) #our model\n",
    "        model.fit(X_train,y_train)\n",
    "        predictions=model.predict(X_test)#our model's predictions\n",
    "        cm = confusion_matrix(y_test, predictions) #our model\n",
    "        print(cm)\n",
    "        print(accuracy_score(y_test, predictions))\n",
    "        print(\"\\n\")"
   ]
  }
 ],
 "metadata": {
  "kernelspec": {
   "display_name": "Python 3",
   "language": "python",
   "name": "python3"
  },
  "language_info": {
   "codemirror_mode": {
    "name": "ipython",
    "version": 3
   },
   "file_extension": ".py",
   "mimetype": "text/x-python",
   "name": "python",
   "nbconvert_exporter": "python",
   "pygments_lexer": "ipython3",
   "version": "3.8.6"
  }
 },
 "nbformat": 4,
 "nbformat_minor": 4
}
