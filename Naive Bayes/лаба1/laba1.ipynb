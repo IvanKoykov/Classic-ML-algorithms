{
 "cells": [
  {
   "cell_type": "markdown",
   "metadata": {},
   "source": [
    "# Сделать 3 вида наивно байесовских анализаторов. Нужно определить вид распределения. Multinomial; Bernuli; Gaussian"
   ]
  },
  {
   "cell_type": "code",
   "execution_count": 1,
   "metadata": {},
   "outputs": [],
   "source": [
    "import scipy\n",
    "import numpy as np\n",
    "import math\n",
    "import cmath\n",
    "from scipy import stats\n",
    "import pandas as pd \n",
    "import re\n",
    "import math\n",
    "import numpy as np\n",
    "import datetime\n",
    "import calendar\n",
    "import sklearn\n",
    "from matplotlib import pyplot as plt\n",
    "from sklearn import datasets\n",
    "from sklearn.datasets import load_iris\n",
    "from sklearn.model_selection import train_test_split\n",
    "from sklearn.naive_bayes import GaussianNB\n",
    "from collections import defaultdict\n",
    "from math import log"
   ]
  },
  {
   "cell_type": "code",
   "execution_count": 2,
   "metadata": {},
   "outputs": [],
   "source": [
    "# gaussClf will be the class that will have the Gaussian naive bayes \n",
    "\n",
    "class gaussClf:\n",
    "    def separate_by_classes(self, X, y):\n",
    "        ''' This function separates our dataset in subdatasets by classes '''\n",
    "        self.classes = np.unique(y)\n",
    "        classes_index = {}\n",
    "        subdatasets = {}\n",
    "        cls, counts = np.unique(y, return_counts=True)\n",
    "        self.class_freq = dict(zip(cls, counts))\n",
    "        #print(self.class_freq)\n",
    "        for class_type in self.classes:\n",
    "            classes_index[class_type] = np.argwhere(y==class_type)\n",
    "            subdatasets[class_type] = X[classes_index[class_type], :]\n",
    "            self.class_freq[class_type] = self.class_freq[class_type]/sum(list(self.class_freq.values()))\n",
    "        return subdatasets\n",
    "    def fit(self, X, y):\n",
    "        ''' The fitting function '''\n",
    "        separated_X = self.separate_by_classes(X, y)\n",
    "        self.means = {}\n",
    "        self.std = {}\n",
    "        for class_type in self.classes:\n",
    "        # Here we calculate the mean and the standart deviation from datasets\n",
    "            self.means[class_type] = np.mean(separated_X[class_type], axis=0)[0]\n",
    "            self.std[class_type] = np.std(separated_X[class_type], axis=0)[0]\n",
    "            \n",
    "    def calculate_probability(self, x, mean, stdev):\n",
    "        ''' This function calculates the class probability using gaussian distribution '''\n",
    "        exponent = math.exp(-((x - mean) ** 2 / (2 * stdev ** 2)))\n",
    "        return (1 / (math.sqrt(2 * math.pi) * stdev)) * exponent\n",
    "    def predict_proba(self, X):\n",
    "        ''' This function predicts the probability for every class '''\n",
    "        self.class_prob = {cls:math.log(self.class_freq[cls], math.e) for cls in self.classes}\n",
    "        for cls in self.classes:\n",
    "            temp_means = self.means.copy()\n",
    "            #print(\"LEN \",len( temp_means[0]))\n",
    "            for i in range(len(self.means[0])):\n",
    "                #print(X[i])\n",
    "                self.class_prob[cls]+=math.log(self.calculate_probability(X[i], self.means[cls][i], self.std[cls][i]), math.e)\n",
    "        self.class_prob = {cls: math.e**self.class_prob[cls] for cls in self.class_prob}\n",
    "        return self.class_prob\n",
    "    def predict(self, X):\n",
    "\n",
    "        ''' This funtion predicts the class of a sample '''\n",
    "        pred = []\n",
    "        for x in X:\n",
    "            pred_class = None\n",
    "            max_prob = 0\n",
    "            for cls, prob in self.predict_proba(x).items():\n",
    "                if prob>max_prob:\n",
    "                    max_prob = prob\n",
    "                    pred_class = cls\n",
    "            pred.append(pred_class)\n",
    "        return pred\n",
    "    "
   ]
  },
  {
   "cell_type": "code",
   "execution_count": 3,
   "metadata": {
    "scrolled": true
   },
   "outputs": [
    {
     "name": "stdout",
     "output_type": "stream",
     "text": [
      "[2 1 0 2 0 2 0 1 1 1 2 1 1 1 1 0 1 1 0 0 2 1 0 0 2 0 0 1 1 0 2 1 0 2 2 1 0\n",
      " 1 1 1 2 0 2 0 0 1 2 2 2 2 1 2 1 1 2 2 2 2 1 2 1 0 2 1 1 1 1 2 0 0 2 1 0 0\n",
      " 1]\n",
      "[2, 1, 0, 2, 0, 2, 0, 1, 1, 1, 1, 1, 1, 1, 1, 0, 1, 1, 0, 0, 2, 1, 0, 0, 2, 0, 0, 1, 1, 0, 2, 1, 0, 2, 2, 1, 0, 1, 1, 1, 2, 0, 2, 0, 0, 1, 2, 2, 1, 2, 1, 2, 1, 1, 2, 1, 1, 2, 1, 2, 1, 0, 2, 1, 1, 1, 1, 2, 0, 0, 2, 1, 0, 0, 1]\n",
      "Number of mislabeled points out of a total  points : 4\n"
     ]
    }
   ],
   "source": [
    "test=gaussClf()\n",
    "iris = datasets.load_iris()\n",
    "X,y = iris['data'][:,:4], iris['target']\n",
    "X_train, X_test, y_train, y_test = train_test_split(X, y, test_size=0.5, random_state=0)\n",
    "#test.startup(X_,y)\n",
    "test.fit(X_train,y_train)\n",
    "#print(test.predict(X_test))\n",
    "predict_hand=test.predict(X_test)\n",
    "#print(y_train,'\\n')\n",
    "print(y_test)\n",
    "print(predict_hand)\n",
    "print(\"Number of mislabeled points out of a total  points : %d\" % ( (y_test != predict_hand).sum()))\n",
    "#count=0\n",
    "#print(\" gdsdhw\")\n",
    "#print(len(predict_hand))\n"
   ]
  },
  {
   "cell_type": "code",
   "execution_count": 4,
   "metadata": {
    "scrolled": true
   },
   "outputs": [
    {
     "name": "stdout",
     "output_type": "stream",
     "text": [
      "[2 1 0 2 0 2 0 1 1 1 2 1 1 1 1 0 1 1 0 0 2 1 0 0 2 0 0 1 1 0 2 1 0 2 2 1 0\n",
      " 1 1 1 2 0 2 0 0 1 2 2 2 2 1 2 1 1 2 2 2 2 1 2 1 0 2 1 1 1 1 2 0 0 2 1 0 0\n",
      " 1]\n",
      "[2 1 0 2 0 2 0 1 1 1 1 1 1 1 1 0 1 1 0 0 2 1 0 0 2 0 0 1 1 0 2 1 0 2 2 1 0\n",
      " 1 1 1 2 0 2 0 0 1 2 2 1 2 1 2 1 1 2 1 1 2 1 2 1 0 2 1 1 1 1 2 0 0 2 1 0 0\n",
      " 1]\n",
      "Number of mislabeled points out of a total points : 4\n"
     ]
    }
   ],
   "source": [
    "gnb = GaussianNB()\n",
    "clf = gnb.fit(X_train, y_train)\n",
    "y_pred = clf.predict(X_test)\n",
    "print(y_test)\n",
    "print(y_pred)\n",
    "print(\"Number of mislabeled points out of a total points : %d\"% ((y_test != y_pred).sum()))"
   ]
  },
  {
   "cell_type": "code",
   "execution_count": 5,
   "metadata": {
    "scrolled": true
   },
   "outputs": [
    {
     "name": "stdout",
     "output_type": "stream",
     "text": [
      "[[5.02810309e-298 9.91792245e-006 9.99990082e-001]\n",
      " [1.32355974e-104 9.99999998e-001 2.21243985e-009]\n",
      " [1.00000000e+000 1.97379737e-018 2.22675274e-033]\n",
      " [0.00000000e+000 1.99091194e-006 9.99998009e-001]\n",
      " [1.00000000e+000 1.03560097e-015 6.00919030e-033]\n",
      " [0.00000000e+000 2.61567517e-010 1.00000000e+000]\n",
      " [1.00000000e+000 1.09216234e-015 3.04640925e-032]\n",
      " [1.30382317e-186 9.39748706e-001 6.02512944e-002]\n",
      " [1.37314714e-190 9.92477617e-001 7.52238287e-003]\n",
      " [1.61806205e-118 9.99996830e-001 3.17015005e-006]\n",
      " [6.23363697e-266 9.56045299e-001 4.39547007e-002]\n",
      " [5.93184767e-168 9.85490107e-001 1.45098927e-002]\n",
      " [3.23724087e-167 9.99979701e-001 2.02985944e-005]\n",
      " [9.06998935e-178 9.94375343e-001 5.62465723e-003]\n",
      " [6.58566389e-178 9.99094377e-001 9.05623500e-004]\n",
      " [1.00000000e+000 1.00495398e-017 2.39340136e-035]\n",
      " [6.62084819e-167 9.98615589e-001 1.38441096e-003]\n",
      " [8.44864592e-141 9.99999390e-001 6.09783320e-007]\n",
      " [1.00000000e+000 3.67025633e-014 9.78434268e-032]\n",
      " [1.00000000e+000 5.99377394e-015 1.47799627e-029]\n",
      " [4.63419074e-238 4.78057147e-002 9.52194285e-001]\n",
      " [3.62942384e-165 9.99038423e-001 9.61577442e-004]\n",
      " [1.00000000e+000 1.26969982e-011 2.22145716e-028]\n",
      " [1.00000000e+000 3.03075429e-015 8.91975642e-034]\n",
      " [1.48602710e-214 4.40417561e-001 5.59582439e-001]\n",
      " [1.00000000e+000 8.98374182e-017 2.93353133e-034]\n",
      " [1.00000000e+000 3.84330644e-010 2.20413327e-024]\n",
      " [2.32120691e-140 9.99973315e-001 2.66850062e-005]\n",
      " [8.19611110e-060 1.00000000e+000 2.44031968e-011]\n",
      " [1.00000000e+000 1.97284580e-012 3.97263440e-028]\n",
      " [5.93314925e-285 2.44221351e-003 9.97557786e-001]\n",
      " [1.40761630e-164 9.99299853e-001 7.00147066e-004]\n",
      " [1.00000000e+000 1.10929125e-015 1.36452279e-032]\n",
      " [6.84911842e-223 2.01849230e-001 7.98150770e-001]\n",
      " [0.00000000e+000 4.51461106e-006 9.99995485e-001]\n",
      " [1.02329503e-114 9.99998536e-001 1.46392271e-006]\n",
      " [1.00000000e+000 1.05467096e-012 1.49563494e-027]\n",
      " [6.67299842e-227 9.18573659e-001 8.14263407e-002]\n",
      " [4.09781355e-143 9.99625981e-001 3.74019250e-004]\n",
      " [1.84093295e-112 9.99999857e-001 1.43276349e-007]\n",
      " [1.11213971e-314 6.06545972e-006 9.99993935e-001]\n",
      " [1.00000000e+000 3.88139454e-016 3.65415191e-034]\n",
      " [4.65514840e-294 8.10248073e-007 9.99999190e-001]\n",
      " [9.99999985e-001 1.48647740e-008 1.35446208e-022]\n",
      " [1.00000000e+000 5.74491741e-016 2.89726627e-032]\n",
      " [8.46879892e-071 1.00000000e+000 2.74434292e-011]\n",
      " [1.07869509e-285 2.88412676e-003 9.97115873e-001]\n",
      " [0.00000000e+000 5.15937135e-010 9.99999999e-001]\n",
      " [1.03504472e-211 9.98151502e-001 1.84849751e-003]\n",
      " [5.22721453e-321 1.77784466e-003 9.98222155e-001]\n",
      " [2.08757144e-100 9.99999992e-001 8.08601407e-009]\n",
      " [0.00000000e+000 1.34204692e-010 1.00000000e+000]\n",
      " [2.08246072e-190 7.73773187e-001 2.26226813e-001]\n",
      " [8.39268527e-094 9.99999997e-001 3.10987419e-009]\n",
      " [2.52462093e-224 3.41757177e-001 6.58242823e-001]\n",
      " [1.58834440e-221 9.53304823e-001 4.66951768e-002]\n",
      " [4.27531931e-178 9.98197119e-001 1.80288079e-003]\n",
      " [3.13041885e-242 9.64276283e-002 9.03572372e-001]\n",
      " [4.09798205e-182 9.50981567e-001 4.90184326e-002]\n",
      " [8.58447999e-272 5.05894925e-004 9.99494105e-001]\n",
      " [5.89346446e-172 9.23949968e-001 7.60500319e-002]\n",
      " [1.00000000e+000 2.53254199e-014 3.84243916e-032]\n",
      " [3.51610244e-249 8.78191938e-002 9.12180806e-001]\n",
      " [5.38475588e-131 9.99997947e-001 2.05337597e-006]\n",
      " [5.02895071e-091 9.99999737e-001 2.63449460e-007]\n",
      " [6.64151923e-117 9.99999677e-001 3.23487551e-007]\n",
      " [3.43085776e-169 9.99179590e-001 8.20410347e-004]\n",
      " [0.00000000e+000 5.13312612e-006 9.99994867e-001]\n",
      " [1.00000000e+000 3.18211204e-016 1.39677301e-032]\n",
      " [1.00000000e+000 4.48423552e-016 1.72503115e-035]\n",
      " [1.37515342e-272 7.32898419e-003 9.92671016e-001]\n",
      " [2.38534261e-125 9.99998464e-001 1.53608215e-006]\n",
      " [1.00000000e+000 3.79513721e-013 6.56266840e-030]\n",
      " [1.00000000e+000 8.27088658e-016 1.94461440e-028]\n",
      " [1.26663672e-205 7.32028100e-001 2.67971900e-001]]\n"
     ]
    }
   ],
   "source": [
    "y_pred = gnb.fit(X_train, y_train).predict_proba(X_test)\n",
    "print(y_pred)\n"
   ]
  },
  {
   "cell_type": "markdown",
   "metadata": {},
   "source": [
    "Bernuli:\n",
    "P(Xi|y)=P(i|y)Xi+(1-P(i|y))(1-Xi)"
   ]
  }
 ],
 "metadata": {
  "kernelspec": {
   "display_name": "Python 3",
   "language": "python",
   "name": "python3"
  },
  "language_info": {
   "codemirror_mode": {
    "name": "ipython",
    "version": 3
   },
   "file_extension": ".py",
   "mimetype": "text/x-python",
   "name": "python",
   "nbconvert_exporter": "python",
   "pygments_lexer": "ipython3",
   "version": "3.8.6"
  }
 },
 "nbformat": 4,
 "nbformat_minor": 4
}
